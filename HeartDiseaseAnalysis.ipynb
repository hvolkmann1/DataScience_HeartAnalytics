{
 "cells": [
  {
   "cell_type": "markdown",
   "metadata": {},
   "source": [
    "# Heart Disease Analytics - Henry Volkmann\n",
    "------------"
   ]
  },
  {
   "cell_type": "markdown",
   "metadata": {},
   "source": [
    "## Goals \n",
    "\n",
    "1. Discover patterns in data regarding heart disease (patients who have reported coronary heart disease (CHD) or myocardial infarction (MI))\n",
    "2. be able to accurately predict/identify high-risk patients for such diseases"
   ]
  },
  {
   "cell_type": "markdown",
   "metadata": {},
   "source": [
    "## Model of choice\n",
    "I will use a logistic regression algorithm since the dependent variable (HeartDisease) is binary."
   ]
  },
  {
   "cell_type": "markdown",
   "metadata": {},
   "source": [
    "- First I must import dependancies I will need"
   ]
  },
  {
   "cell_type": "code",
   "execution_count": 1,
   "metadata": {},
   "outputs": [],
   "source": [
    "import numpy as np\n",
    "import pandas as pd\n",
    "import seaborn as sns\n",
    "from sklearn.model_selection import train_test_split\n",
    "from matplotlib import pyplot as plt\n",
    "\n",
    "data = pd.read_excel('heart_2020.xlsx')"
   ]
  },
  {
   "cell_type": "markdown",
   "metadata": {},
   "source": [
    "## Cleaning data\n",
    "\n",
    "- I am mapping all binary data (yes or no, male or female) to 1 or 0. Prior to this step I checked each column with the method .unique() to ensure that I do not mis any unique data pointsin a variable.\n",
    "- For \"AgeCategory\" I assigned each unique value to an integer from 1 to 13 to make analyzing the data simpler\n"
   ]
  },
  {
   "cell_type": "code",
   "execution_count": 2,
   "metadata": {},
   "outputs": [],
   "source": [
    "data[\"HeartDisease\"] = data[\"HeartDisease\"].map({\"Yes\": '1', \"No\": '0'})\n",
    "data[\"Smoking\"] = data[\"Smoking\"].map({\"Yes\":1, \"No\":0})\n",
    "data[\"AlcoholDrinking\"] = data[\"AlcoholDrinking\"].map({\"Yes\":1, \"No\":0})\n",
    "data[\"Stroke\"] = data[\"Stroke\"].map({\"Yes\":1, \"No\":0})\n",
    "data[\"DiffWalking\"] = data[\"DiffWalking\"].map({\"Yes\":1, \"No\":0})\n",
    "data[\"Sex\"] = data[\"Sex\"].map({\"Male\":1, \"Female\":0})\n",
    "data[\"AgeCategory\"] = data[\"AgeCategory\"].map({\"18-24\":1, \"25-29\":2,\"30-34\":3,\"35-39\":4,\"40-44\":5, \"45-49\":6, \"50-54\":7, \"55-59\":8, \"60-64\":9, \"65-69\":10, \"70-74\":11, \"75-79\":12, \"80 or older\":13})\n",
    "data[\"PhysicalActivity\"] = data[\"PhysicalActivity\"].map({\"Yes\":1, \"No\":0})\n",
    "data[\"Asthma\"] = data[\"Asthma\"].map({\"Yes\":1, \"No\":0})\n",
    "data[\"KidneyDisease\"] = data[\"KidneyDisease\"].map({\"Yes\":1, \"No\":0})\n",
    "data[\"SkinCancer\"] = data[\"SkinCancer\"].map({\"Yes\":1, \"No\":0})"
   ]
  },
  {
   "cell_type": "markdown",
   "metadata": {},
   "source": [
    "## Exploration of variables\n",
    "\n",
    "- Below you can see that the data is highly misrepresented, thus I must balance out the target variable inorder to have an effective model. Before I create my model, I will explore more of the independent variables to understand some fundemental relationships."
   ]
  },
  {
   "cell_type": "code",
   "execution_count": 3,
   "metadata": {},
   "outputs": [
    {
     "data": {
      "image/png": "[encoded data removed]",
      "text/plain": [
       "<Figure size 432x288 with 1 Axes>"
      ]
     },
     "metadata": {
      "needs_background": "light"
     },
     "output_type": "display_data"
    },
    {
     "data": {
      "text/plain": [
       "0    292422\n",
       "1     27373\n",
       "Name: HeartDisease, dtype: int64"
      ]
     },
     "execution_count": 3,
     "metadata": {},
     "output_type": "execute_result"
    }
   ],
   "source": [
    "from collections import Counter\n",
    "\n",
    "sns.countplot(x=\"HeartDisease\", data=data, palette=\"hls\")\n",
    "plt.show()\n",
    "data[\"HeartDisease\"].value_counts()"
   ]
  },
  {
   "cell_type": "code",
   "execution_count": 4,
   "metadata": {},
   "outputs": [
    {
     "data": {
      "text/html": [
       "<div>\n",
       "<style scoped>\n",
       "    .dataframe tbody tr th:only-of-type {\n",
       "        vertical-align: middle;\n",
       "    }\n",
       "\n",
       "    .dataframe tbody tr th {\n",
       "        vertical-align: top;\n",
       "    }\n",
       "\n",
       "    .dataframe thead th {\n",
       "        text-align: right;\n",
       "    }\n",
       "</style>\n",
       "<table border=\"1\" class=\"dataframe\">\n",
       "  <thead>\n",
       "    <tr style=\"text-align: right;\">\n",
       "      <th></th>\n",
       "      <th>BMI</th>\n",
       "      <th>Smoking</th>\n",
       "      <th>AlcoholDrinking</th>\n",
       "      <th>Stroke</th>\n",
       "      <th>PhysicalHealth</th>\n",
       "      <th>MentalHealth</th>\n",
       "      <th>DiffWalking</th>\n",
       "      <th>Sex</th>\n",
       "      <th>AgeCategory</th>\n",
       "      <th>PhysicalActivity</th>\n",
       "      <th>SleepTime</th>\n",
       "      <th>Asthma</th>\n",
       "      <th>KidneyDisease</th>\n",
       "      <th>SkinCancer</th>\n",
       "    </tr>\n",
       "    <tr>\n",
       "      <th>HeartDisease</th>\n",
       "      <th></th>\n",
       "      <th></th>\n",
       "      <th></th>\n",
       "      <th></th>\n",
       "      <th></th>\n",
       "      <th></th>\n",
       "      <th></th>\n",
       "      <th></th>\n",
       "      <th></th>\n",
       "      <th></th>\n",
       "      <th></th>\n",
       "      <th></th>\n",
       "      <th></th>\n",
       "      <th></th>\n",
       "    </tr>\n",
       "  </thead>\n",
       "  <tbody>\n",
       "    <tr>\n",
       "      <th>0</th>\n",
       "      <td>28.224658</td>\n",
       "      <td>0.396246</td>\n",
       "      <td>0.070569</td>\n",
       "      <td>0.026263</td>\n",
       "      <td>2.956416</td>\n",
       "      <td>3.828778</td>\n",
       "      <td>0.117577</td>\n",
       "      <td>0.464572</td>\n",
       "      <td>7.259943</td>\n",
       "      <td>0.788135</td>\n",
       "      <td>7.093416</td>\n",
       "      <td>0.129741</td>\n",
       "      <td>0.028466</td>\n",
       "      <td>0.084942</td>\n",
       "    </tr>\n",
       "    <tr>\n",
       "      <th>1</th>\n",
       "      <td>29.401592</td>\n",
       "      <td>0.585869</td>\n",
       "      <td>0.041683</td>\n",
       "      <td>0.160340</td>\n",
       "      <td>7.808242</td>\n",
       "      <td>4.641764</td>\n",
       "      <td>0.366346</td>\n",
       "      <td>0.589596</td>\n",
       "      <td>10.234318</td>\n",
       "      <td>0.638914</td>\n",
       "      <td>7.136156</td>\n",
       "      <td>0.180214</td>\n",
       "      <td>0.126219</td>\n",
       "      <td>0.181931</td>\n",
       "    </tr>\n",
       "  </tbody>\n",
       "</table>\n",
       "</div>"
      ],
      "text/plain": [
       "                    BMI   Smoking  AlcoholDrinking    Stroke  PhysicalHealth  \\\n",
       "HeartDisease                                                                   \n",
       "0             28.224658  0.396246         0.070569  0.026263        2.956416   \n",
       "1             29.401592  0.585869         0.041683  0.160340        7.808242   \n",
       "\n",
       "              MentalHealth  DiffWalking       Sex  AgeCategory  \\\n",
       "HeartDisease                                                     \n",
       "0                 3.828778     0.117577  0.464572     7.259943   \n",
       "1                 4.641764     0.366346  0.589596    10.234318   \n",
       "\n",
       "              PhysicalActivity  SleepTime    Asthma  KidneyDisease  SkinCancer  \n",
       "HeartDisease                                                                    \n",
       "0                     0.788135   7.093416  0.129741       0.028466    0.084942  \n",
       "1                     0.638914   7.136156  0.180214       0.126219    0.181931  "
      ]
     },
     "execution_count": 4,
     "metadata": {},
     "output_type": "execute_result"
    }
   ],
   "source": [
    "data.groupby('HeartDisease').mean()"
   ]
  },
  {
   "cell_type": "code",
   "execution_count": 5,
   "metadata": {},
   "outputs": [
    {
     "data": {
      "text/html": [
       "<div>\n",
       "<style scoped>\n",
       "    .dataframe tbody tr th:only-of-type {\n",
       "        vertical-align: middle;\n",
       "    }\n",
       "\n",
       "    .dataframe tbody tr th {\n",
       "        vertical-align: top;\n",
       "    }\n",
       "\n",
       "    .dataframe thead th {\n",
       "        text-align: right;\n",
       "    }\n",
       "</style>\n",
       "<table border=\"1\" class=\"dataframe\">\n",
       "  <thead>\n",
       "    <tr style=\"text-align: right;\">\n",
       "      <th></th>\n",
       "      <th>BMI</th>\n",
       "      <th>Smoking</th>\n",
       "      <th>AlcoholDrinking</th>\n",
       "      <th>Stroke</th>\n",
       "      <th>PhysicalHealth</th>\n",
       "      <th>MentalHealth</th>\n",
       "      <th>DiffWalking</th>\n",
       "      <th>Sex</th>\n",
       "      <th>AgeCategory</th>\n",
       "      <th>PhysicalActivity</th>\n",
       "      <th>SleepTime</th>\n",
       "      <th>Asthma</th>\n",
       "      <th>KidneyDisease</th>\n",
       "      <th>SkinCancer</th>\n",
       "    </tr>\n",
       "    <tr>\n",
       "      <th>Race</th>\n",
       "      <th></th>\n",
       "      <th></th>\n",
       "      <th></th>\n",
       "      <th></th>\n",
       "      <th></th>\n",
       "      <th></th>\n",
       "      <th></th>\n",
       "      <th></th>\n",
       "      <th></th>\n",
       "      <th></th>\n",
       "      <th></th>\n",
       "      <th></th>\n",
       "      <th></th>\n",
       "      <th></th>\n",
       "    </tr>\n",
       "  </thead>\n",
       "  <tbody>\n",
       "    <tr>\n",
       "      <th>American Indian/Alaskan Native</th>\n",
       "      <td>29.627678</td>\n",
       "      <td>0.549020</td>\n",
       "      <td>0.059785</td>\n",
       "      <td>0.059016</td>\n",
       "      <td>4.791042</td>\n",
       "      <td>5.036332</td>\n",
       "      <td>0.206651</td>\n",
       "      <td>0.461938</td>\n",
       "      <td>6.816225</td>\n",
       "      <td>0.717801</td>\n",
       "      <td>7.056709</td>\n",
       "      <td>0.170511</td>\n",
       "      <td>0.047674</td>\n",
       "      <td>0.032680</td>\n",
       "    </tr>\n",
       "    <tr>\n",
       "      <th>Asian</th>\n",
       "      <td>25.218303</td>\n",
       "      <td>0.227938</td>\n",
       "      <td>0.033218</td>\n",
       "      <td>0.018716</td>\n",
       "      <td>1.630640</td>\n",
       "      <td>2.755454</td>\n",
       "      <td>0.055404</td>\n",
       "      <td>0.517848</td>\n",
       "      <td>5.655801</td>\n",
       "      <td>0.806767</td>\n",
       "      <td>6.918691</td>\n",
       "      <td>0.098042</td>\n",
       "      <td>0.016981</td>\n",
       "      <td>0.006941</td>\n",
       "    </tr>\n",
       "    <tr>\n",
       "      <th>Black</th>\n",
       "      <td>30.169993</td>\n",
       "      <td>0.344740</td>\n",
       "      <td>0.044553</td>\n",
       "      <td>0.054754</td>\n",
       "      <td>3.696935</td>\n",
       "      <td>4.211561</td>\n",
       "      <td>0.188151</td>\n",
       "      <td>0.408300</td>\n",
       "      <td>7.065958</td>\n",
       "      <td>0.709752</td>\n",
       "      <td>6.992763</td>\n",
       "      <td>0.160164</td>\n",
       "      <td>0.043812</td>\n",
       "      <td>0.006016</td>\n",
       "    </tr>\n",
       "    <tr>\n",
       "      <th>Hispanic</th>\n",
       "      <td>28.818086</td>\n",
       "      <td>0.305035</td>\n",
       "      <td>0.055309</td>\n",
       "      <td>0.021679</td>\n",
       "      <td>3.227137</td>\n",
       "      <td>4.188297</td>\n",
       "      <td>0.129600</td>\n",
       "      <td>0.469394</td>\n",
       "      <td>5.625847</td>\n",
       "      <td>0.698317</td>\n",
       "      <td>7.035014</td>\n",
       "      <td>0.138381</td>\n",
       "      <td>0.030095</td>\n",
       "      <td>0.015084</td>\n",
       "    </tr>\n",
       "    <tr>\n",
       "      <th>Other</th>\n",
       "      <td>28.748967</td>\n",
       "      <td>0.454887</td>\n",
       "      <td>0.075403</td>\n",
       "      <td>0.043558</td>\n",
       "      <td>4.052343</td>\n",
       "      <td>5.225750</td>\n",
       "      <td>0.154466</td>\n",
       "      <td>0.498536</td>\n",
       "      <td>6.353953</td>\n",
       "      <td>0.779374</td>\n",
       "      <td>6.860359</td>\n",
       "      <td>0.184846</td>\n",
       "      <td>0.034773</td>\n",
       "      <td>0.043924</td>\n",
       "    </tr>\n",
       "    <tr>\n",
       "      <th>White</th>\n",
       "      <td>28.153422</td>\n",
       "      <td>0.432124</td>\n",
       "      <td>0.072729</td>\n",
       "      <td>0.037861</td>\n",
       "      <td>3.354310</td>\n",
       "      <td>3.790924</td>\n",
       "      <td>0.135911</td>\n",
       "      <td>0.480042</td>\n",
       "      <td>7.895588</td>\n",
       "      <td>0.790133</td>\n",
       "      <td>7.131054</td>\n",
       "      <td>0.129284</td>\n",
       "      <td>0.037449</td>\n",
       "      <td>0.116475</td>\n",
       "    </tr>\n",
       "  </tbody>\n",
       "</table>\n",
       "</div>"
      ],
      "text/plain": [
       "                                      BMI   Smoking  AlcoholDrinking  \\\n",
       "Race                                                                   \n",
       "American Indian/Alaskan Native  29.627678  0.549020         0.059785   \n",
       "Asian                           25.218303  0.227938         0.033218   \n",
       "Black                           30.169993  0.344740         0.044553   \n",
       "Hispanic                        28.818086  0.305035         0.055309   \n",
       "Other                           28.748967  0.454887         0.075403   \n",
       "White                           28.153422  0.432124         0.072729   \n",
       "\n",
       "                                  Stroke  PhysicalHealth  MentalHealth  \\\n",
       "Race                                                                     \n",
       "American Indian/Alaskan Native  0.059016        4.791042      5.036332   \n",
       "Asian                           0.018716        1.630640      2.755454   \n",
       "Black                           0.054754        3.696935      4.211561   \n",
       "Hispanic                        0.021679        3.227137      4.188297   \n",
       "Other                           0.043558        4.052343      5.225750   \n",
       "White                           0.037861        3.354310      3.790924   \n",
       "\n",
       "                                DiffWalking       Sex  AgeCategory  \\\n",
       "Race                                                                 \n",
       "American Indian/Alaskan Native     0.206651  0.461938     6.816225   \n",
       "Asian                              0.055404  0.517848     5.655801   \n",
       "Black                              0.188151  0.408300     7.065958   \n",
       "Hispanic                           0.129600  0.469394     5.625847   \n",
       "Other                              0.154466  0.498536     6.353953   \n",
       "White                              0.135911  0.480042     7.895588   \n",
       "\n",
       "                                PhysicalActivity  SleepTime    Asthma  \\\n",
       "Race                                                                    \n",
       "American Indian/Alaskan Native          0.717801   7.056709  0.170511   \n",
       "Asian                                   0.806767   6.918691  0.098042   \n",
       "Black                                   0.709752   6.992763  0.160164   \n",
       "Hispanic                                0.698317   7.035014  0.138381   \n",
       "Other                                   0.779374   6.860359  0.184846   \n",
       "White                                   0.790133   7.131054  0.129284   \n",
       "\n",
       "                                KidneyDisease  SkinCancer  \n",
       "Race                                                       \n",
       "American Indian/Alaskan Native       0.047674    0.032680  \n",
       "Asian                                0.016981    0.006941  \n",
       "Black                                0.043812    0.006016  \n",
       "Hispanic                             0.030095    0.015084  \n",
       "Other                                0.034773    0.043924  \n",
       "White                                0.037449    0.116475  "
      ]
     },
     "execution_count": 5,
     "metadata": {},
     "output_type": "execute_result"
    }
   ],
   "source": [
    "data.groupby('Race').mean()"
   ]
  },
  {
   "cell_type": "markdown",
   "metadata": {},
   "source": [
    "### Creating Dummy variables\n",
    "- Now I will create dummy variables for the categorical variables. This will make the data to be easier to process for the model."
   ]
  },
  {
   "cell_type": "code",
   "execution_count": 6,
   "metadata": {},
   "outputs": [],
   "source": [
    "cat_vars = ['AgeCategory', 'Race', 'Diabetic', 'GenHealth']\n",
    "for var in cat_vars:\n",
    "    cat_list = 'var'+'_'+var\n",
    "    cat_list = pd.get_dummies(data[var], prefix=var)\n",
    "    data1 = data.join(cat_list)\n",
    "    data = data1\n",
    "\n",
    "cat_vars = ['AgeCategory', 'Race', 'Diabetic', 'GenHealth']\n",
    "data_vars = data.columns.values.tolist()\n",
    "to_keep = [i for i in data_vars if i not in cat_vars]"
   ]
  },
  {
   "cell_type": "code",
   "execution_count": 7,
   "metadata": {},
   "outputs": [
    {
     "data": {
      "text/plain": [
       "array(['HeartDisease', 'BMI', 'Smoking', 'AlcoholDrinking', 'Stroke',\n",
       "       'PhysicalHealth', 'MentalHealth', 'DiffWalking', 'Sex',\n",
       "       'PhysicalActivity', 'SleepTime', 'Asthma', 'KidneyDisease',\n",
       "       'SkinCancer', 'AgeCategory_1', 'AgeCategory_2', 'AgeCategory_3',\n",
       "       'AgeCategory_4', 'AgeCategory_5', 'AgeCategory_6', 'AgeCategory_7',\n",
       "       'AgeCategory_8', 'AgeCategory_9', 'AgeCategory_10',\n",
       "       'AgeCategory_11', 'AgeCategory_12', 'AgeCategory_13',\n",
       "       'Race_American Indian/Alaskan Native', 'Race_Asian', 'Race_Black',\n",
       "       'Race_Hispanic', 'Race_Other', 'Race_White', 'Diabetic_No',\n",
       "       'Diabetic_No, borderline diabetes', 'Diabetic_Yes',\n",
       "       'Diabetic_Yes (during pregnancy)', 'GenHealth_Excellent',\n",
       "       'GenHealth_Fair', 'GenHealth_Good', 'GenHealth_Poor',\n",
       "       'GenHealth_Very good'], dtype=object)"
      ]
     },
     "execution_count": 7,
     "metadata": {},
     "output_type": "execute_result"
    }
   ],
   "source": [
    "data_final = data[to_keep]\n",
    "data_final.columns.values"
   ]
  },
  {
   "cell_type": "markdown",
   "metadata": {},
   "source": [
    "- Now I will undersample the data in order to balance positive & negative heart disease cases"
   ]
  },
  {
   "cell_type": "code",
   "execution_count": 8,
   "metadata": {},
   "outputs": [],
   "source": [
    "from imblearn.under_sampling import RandomUnderSampler\n",
    "from collections import Counter\n",
    "\n",
    "X = data_final.loc[:, data_final.columns != 'HeartDisease']\n",
    "y = data_final.loc[:, data_final.columns == 'HeartDisease']\n",
    "\n",
    "rus = RandomUnderSampler(random_state=0)\n",
    "\n",
    "X_train, X_test, y_train, y_test = train_test_split(X, y, test_size=0.3, random_state=0)\n",
    "columns1 = X_train.columns\n",
    "\n",
    "X_train_rus, y_train_rus = rus.fit_resample(X_train, y_train)"
   ]
  },
  {
   "cell_type": "code",
   "execution_count": 9,
   "metadata": {},
   "outputs": [],
   "source": [
    "X_train_rus = pd.DataFrame(data=X_train_rus, columns=columns1)\n",
    "y_train_rus = pd.DataFrame(data=y_train_rus, columns=['HeartDisease'])"
   ]
  },
  {
   "cell_type": "code",
   "execution_count": 10,
   "metadata": {},
   "outputs": [
    {
     "name": "stdout",
     "output_type": "stream",
     "text": [
      "length of undersampled data is: 38328\n",
      "Number of no heart disease patients: 19164\n",
      "Number of heart disease patients: 19164\n",
      "Proportion of no heart disease patients in undersampled data is: 0.5\n",
      "Proportion of heart disease patients in undersampled data is: 0.5\n"
     ]
    }
   ],
   "source": [
    "print('length of undersampled data is:', len(X_train_rus))\n",
    "print('Number of no heart disease patients:', y_train_rus['HeartDisease'].value_counts()[0])\n",
    "print('Number of heart disease patients:', y_train_rus['HeartDisease'].value_counts()[1])\n",
    "print('Proportion of no heart disease patients in undersampled data is:', y_train_rus['HeartDisease'].value_counts()[0]/len(X_train_rus))\n",
    "print('Proportion of heart disease patients in undersampled data is:', y_train_rus['HeartDisease'].value_counts()[1]/len(X_train_rus))"
   ]
  },
  {
   "cell_type": "markdown",
   "metadata": {},
   "source": [
    "- Now the data set is balanced, lets remove insignificant variables\n",
    "- "
   ]
  },
  {
   "cell_type": "code",
   "execution_count": 11,
   "metadata": {},
   "outputs": [
    {
     "name": "stdout",
     "output_type": "stream",
     "text": [
      "[False  True  True  True False False  True  True False False  True  True\n",
      " False  True  True  True  True  True  True False  True  True  True  True\n",
      "  True  True False  True False False False False False False  True False\n",
      "  True  True False  True  True]\n",
      "[15  1  1  1 17 16  1  1 14 10  1  1  5  1  1  1  1  1  1 12  1  1  1  1\n",
      "  1  1  4  1  2  7 11 13  3  8  1  6  1  1  9  1  1]\n"
     ]
    }
   ],
   "source": [
    "data_final_vars = data_final.columns.values.tolist()\n",
    "y = ['HeartDisease']\n",
    "X = [i for i in data_final_vars if i not in y]\n",
    "\n",
    "from sklearn.feature_selection import RFE\n",
    "from sklearn.linear_model import LogisticRegression\n",
    "\n",
    "model = LogisticRegression(max_iter=400)\n",
    "\n",
    "rfe = RFE(model, n_features_to_select=25)\n",
    "rfe = rfe.fit(X_train_rus, y_train_rus.values.ravel())\n",
    "print(rfe.support_)\n",
    "print(rfe.ranking_)"
   ]
  },
  {
   "cell_type": "code",
   "execution_count": 12,
   "metadata": {},
   "outputs": [
    {
     "data": {
      "text/plain": [
       "['Smoking',\n",
       " 'AlcoholDrinking',\n",
       " 'Stroke',\n",
       " 'DiffWalking',\n",
       " 'Sex',\n",
       " 'Asthma',\n",
       " 'KidneyDisease',\n",
       " 'AgeCategory_1',\n",
       " 'AgeCategory_2',\n",
       " 'AgeCategory_3',\n",
       " 'AgeCategory_4',\n",
       " 'AgeCategory_5',\n",
       " 'AgeCategory_6',\n",
       " 'AgeCategory_8',\n",
       " 'AgeCategory_9',\n",
       " 'AgeCategory_10',\n",
       " 'AgeCategory_11',\n",
       " 'AgeCategory_12',\n",
       " 'AgeCategory_13',\n",
       " 'Race_Asian',\n",
       " 'Diabetic_Yes',\n",
       " 'GenHealth_Excellent',\n",
       " 'GenHealth_Fair',\n",
       " 'GenHealth_Poor',\n",
       " 'GenHealth_Very good']"
      ]
     },
     "execution_count": 12,
     "metadata": {},
     "output_type": "execute_result"
    }
   ],
   "source": [
    "cols = []\n",
    "ct = 0 #iterator for finding correct columns\n",
    "for i in rfe.support_:\n",
    "    if i==True:\n",
    "        cols.append(X[ct])\n",
    "    ct+=1\n",
    "cols"
   ]
  },
  {
   "cell_type": "code",
   "execution_count": 13,
   "metadata": {},
   "outputs": [],
   "source": [
    "X = X_train_rus[cols]\n",
    "y = y_train_rus['HeartDisease']"
   ]
  },
  {
   "cell_type": "markdown",
   "metadata": {},
   "source": [
    "## Creating the Model"
   ]
  },
  {
   "cell_type": "code",
   "execution_count": 14,
   "metadata": {},
   "outputs": [
    {
     "name": "stdout",
     "output_type": "stream",
     "text": [
      "Optimization terminated successfully.\n",
      "         Current function value: 0.500057\n",
      "         Iterations 7\n",
      "                           Results: Logit\n",
      "====================================================================\n",
      "Model:               Logit             Pseudo R-squared:  0.279     \n",
      "Dependent Variable:  HeartDisease      AIC:               38382.4039\n",
      "Date:                2022-08-10 18:43  BIC:               38596.2523\n",
      "No. Observations:    38328             Log-Likelihood:    -19166.   \n",
      "Df Model:            24                LL-Null:           -26567.   \n",
      "Df Residuals:        38303             LLR p-value:       0.0000    \n",
      "Converged:           1.0000            Scale:             1.0000    \n",
      "No. Iterations:      7.0000                                         \n",
      "--------------------------------------------------------------------\n",
      "                     Coef.  Std.Err.    z     P>|z|   [0.025  0.975]\n",
      "--------------------------------------------------------------------\n",
      "Smoking              0.2815   0.0252  11.1562 0.0000  0.2321  0.3310\n",
      "AlcoholDrinking     -0.3407   0.0562  -6.0619 0.0000 -0.4508 -0.2305\n",
      "Stroke               1.2260   0.0554  22.1148 0.0000  1.1174  1.3347\n",
      "DiffWalking          0.1828   0.0341   5.3661 0.0000  0.1160  0.2496\n",
      "Sex                  0.5948   0.0250  23.7788 0.0000  0.5458  0.6438\n",
      "Asthma               0.2036   0.0362   5.6316 0.0000  0.1327  0.2744\n",
      "KidneyDisease        0.5701   0.0554  10.2979 0.0000  0.4616  0.6786\n",
      "AgeCategory_1       -2.6422   0.1120 -23.5977 0.0000 -2.8617 -2.4228\n",
      "AgeCategory_2       -2.4273   0.1113 -21.8143 0.0000 -2.6453 -2.2092\n",
      "AgeCategory_3       -2.0412   0.0898 -22.7327 0.0000 -2.2172 -1.8652\n",
      "AgeCategory_4       -2.0976   0.0832 -25.2127 0.0000 -2.2607 -1.9345\n",
      "AgeCategory_5       -1.7013   0.0695 -24.4642 0.0000 -1.8376 -1.5650\n",
      "AgeCategory_6       -1.3799   0.0625 -22.0808 0.0000 -1.5023 -1.2574\n",
      "AgeCategory_8       -0.5940   0.0464 -12.8063 0.0000 -0.6849 -0.5031\n",
      "AgeCategory_9       -0.4038   0.0420  -9.6164 0.0000 -0.4861 -0.3215\n",
      "AgeCategory_10      -0.1325   0.0404  -3.2773 0.0010 -0.2117 -0.0533\n",
      "AgeCategory_11       0.1639   0.0405   4.0447 0.0001  0.0845  0.2434\n",
      "AgeCategory_12       0.3912   0.0449   8.7173 0.0000  0.3032  0.4791\n",
      "AgeCategory_13       0.6756   0.0424  15.9358 0.0000  0.5925  0.7587\n",
      "Race_Asian          -0.5540   0.1045  -5.3028 0.0000 -0.7587 -0.3492\n",
      "Diabetic_Yes         0.3877   0.0323  12.0043 0.0000  0.3244  0.4510\n",
      "GenHealth_Excellent -1.3543   0.0422 -32.1137 0.0000 -1.4370 -1.2717\n",
      "GenHealth_Fair       0.3680   0.0377   9.7564 0.0000  0.2940  0.4419\n",
      "GenHealth_Poor       0.9408   0.0617  15.2414 0.0000  0.8198  1.0618\n",
      "GenHealth_Very good -0.8211   0.0296 -27.7081 0.0000 -0.8792 -0.7630\n",
      "====================================================================\n",
      "\n"
     ]
    }
   ],
   "source": [
    "import statsmodels.api as sm\n",
    "logit_model = sm.Logit(y.astype(int), X)\n",
    "result=logit_model.fit()\n",
    "print(result.summary2())"
   ]
  },
  {
   "cell_type": "markdown",
   "metadata": {},
   "source": [
    "## Analysis of Results/Variables\n",
    "1) By observing the coefficient (Coef) column it is very easy to see the relationship between the independent variables and the target variable.\n",
    "    - all variables with negative coefficients decrease the likelyhood of having heart disease. This logically makes sense when I look at the age categories. As the age categories get lower (younger) there is a greater negative coeffecient, inscinuating that younger people are less likely to experience heart disease. This same logic applies to the \"GenHealth\" variables as well. \n",
    "    - Looking at the positively correlated variables I noticed that \"Stroke\", \"GenHealth_Poor\", and \"Kidney Disease\", were the highest positively correlated variables. \n",
    "2) By looking at the P > |z| column we can observe that there are no values over 0.05, thus there is no need to remove any variables as all of the variables are statistically significant."
   ]
  },
  {
   "cell_type": "markdown",
   "metadata": {},
   "source": [
    "### Training & Testing the model"
   ]
  },
  {
   "cell_type": "code",
   "execution_count": 15,
   "metadata": {},
   "outputs": [
    {
     "name": "stdout",
     "output_type": "stream",
     "text": [
      "Accuracy of logistic regression classifier on test set: 0.75\n"
     ]
    }
   ],
   "source": [
    "from sklearn import metrics\n",
    "model.fit(X, y.values.ravel())\n",
    "y_pred = model.predict(X_test[cols])\n",
    "print('Accuracy of logistic regression classifier on test set: {:.2f}'.format(model.score(X_test[cols], y_test)))"
   ]
  },
  {
   "cell_type": "code",
   "execution_count": 16,
   "metadata": {},
   "outputs": [
    {
     "name": "stdout",
     "output_type": "stream",
     "text": [
      "[[65616 22114]\n",
      " [ 1842  6367]]\n"
     ]
    }
   ],
   "source": [
    "from sklearn.metrics import confusion_matrix\n",
    "confusion_matrix = confusion_matrix(y_test, y_pred)\n",
    "print(confusion_matrix)"
   ]
  },
  {
   "cell_type": "code",
   "execution_count": 17,
   "metadata": {},
   "outputs": [
    {
     "name": "stdout",
     "output_type": "stream",
     "text": [
      "              precision    recall  f1-score   support\n",
      "\n",
      "           0       0.97      0.75      0.85     87730\n",
      "           1       0.22      0.78      0.35      8209\n",
      "\n",
      "    accuracy                           0.75     95939\n",
      "   macro avg       0.60      0.76      0.60     95939\n",
      "weighted avg       0.91      0.75      0.80     95939\n",
      "\n"
     ]
    }
   ],
   "source": [
    "from sklearn.metrics import classification_report \n",
    "print(classification_report(y_test, y_pred))"
   ]
  },
  {
   "cell_type": "markdown",
   "metadata": {},
   "source": [
    "-----------------\n",
    "## Conclusion\n",
    "- From the confusion matrix above it out that I have 65616 accurate predictions and 22114 incorrect predictions. \n",
    "- From the classification report, you can see that the model was very precise in predicting negative heart disease results (97%) but lacked that same precision for positive results (22%). Although the precision of the model was very low for predicting positive results, it wasd still effective by identifying 78% of the positive patients in the test data. This means that even though it falsly \"guessed\" positive more often than it should have (impacting its precision) it only failed to recognize 22% of the positive patients. In this context, this result is ideal under the assumption that the model should error on the side of caution (by assuming a patient is positive rather than negative).\n",
    "- I ran this model with a different number of features selected. At 15 features selected I had more overall correct predictions, but a lower recall for positive heart disease patients. I made the assumption that an increase in identifying all of the positive cases from 74% to 78% was more beneficial than using fewer features. I would like to know if you would've made the same decision. \n",
    "- the overall accuracy of the model is 75% as seen above.\n",
    "\n"
   ]
  },
  {
   "cell_type": "markdown",
   "metadata": {},
   "source": [
    "------\n",
    "## Your task:\n",
    "\n",
    "1) Make visualizations explaining other dependent variable with respect to the variable of interest which is the \"HeartDisease\" column \n",
    "\n",
    "2) Build a model of your choosing from a parametric models to GLM's and even ML techniques to showcase \n",
    "    \n",
    "    A) the fit of your proposed model \n",
    "\n",
    "    B)  Explain how other independent features contribute or relate to the dependent variable.\n"
   ]
  }
 ],
 "metadata": {
  "kernelspec": {
   "display_name": "Python 3.10.5 64-bit",
   "language": "python",
   "name": "python3"
  },
  "language_info": {
   "codemirror_mode": {
    "name": "ipython",
    "version": 3
   },
   "file_extension": ".py",
   "mimetype": "text/x-python",
   "name": "python",
   "nbconvert_exporter": "python",
   "pygments_lexer": "ipython3",
   "version": "3.10.5"
  },
  "orig_nbformat": 4,
  "vscode": {
   "interpreter": {
    "hash": "aee8b7b246df8f9039afb4144a1f6fd8d2ca17a180786b69acc140d282b71a49"
   }
  }
 },
 "nbformat": 4,
 "nbformat_minor": 2
}
